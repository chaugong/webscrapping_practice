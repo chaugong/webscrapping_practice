{
 "cells": [
  {
   "cell_type": "code",
   "execution_count": 1,
   "metadata": {},
   "outputs": [],
   "source": [
    "import time\n",
    "import re\n",
    "import requests\n",
    "from bs4 import BeautifulSoup\n",
    "import pandas as pd"
   ]
  },
  {
   "cell_type": "markdown",
   "metadata": {},
   "source": [
    "如果想要使用 Python 來下載網頁上的資料，最基本的作法就是以 requests 模組建立適當的 HTTP 請求，透過 HTTP 請求從網頁伺服器下載指定的資料。\n",
    "普通單純的網頁，只需要用最簡單的 GET 請求即可直接下載。"
   ]
  },
  {
   "cell_type": "markdown",
   "metadata": {},
   "source": [
    "# 伺服器回應的狀態碼\n",
    "print(r.status_code)\n",
    "\n",
    "如果顯示 200 就代表沒問題。我們也可以利用以下這個判斷式來檢查狀態碼：\n",
    "\n",
    "# 檢查狀態碼是否 OK\n",
    "if r.status_code == requests.codes.ok:\n",
    "  print(\"OK\")\n",
    "\n",
    "r.text 可以查看原始的網頁 HTML 程式碼。"
   ]
  },
  {
   "cell_type": "code",
   "execution_count": 2,
   "metadata": {},
   "outputs": [],
   "source": [
    "url = 'https://racing.appledaily.com.hk/race-day/race-position?raceDay=2688&race=23731'\n",
    "response = requests.get(url) #, headers = {'user-agent':'Mozilla/5.0'}\n",
    "# r  You can merely print r to see if the response is 200, 200 means ok"
   ]
  },
  {
   "cell_type": "code",
   "execution_count": 3,
   "metadata": {},
   "outputs": [],
   "source": [
    "#response.text  #The result only shows part of the html source code....the part i want is not gotten...我嘗試在request到加user-agent但不成功\n"
   ]
  },
  {
   "cell_type": "markdown",
   "metadata": {},
   "source": [
    "從網絡原始碼取出所要資訊就要用BeautifulSoup. \n",
    "Beautiful Soup is a Python library for pulling data out of HTML and XML files.\n",
    "\n",
    "# Making the soup\n",
    "To parse a document, pass it into the BeautifulSoup constructor. \n",
    "First, the document is converted to Unicode, and HTML entities are converted to Unicode characters\n",
    "Beautiful Soup then parses the document using the best available parser. It will use an HTML parser unless you specifically tell it to use an XML parser.\n",
    "source: https://www.crummy.com/software/BeautifulSoup/bs4/doc/#installing-a-parser "
   ]
  },
  {
   "cell_type": "code",
   "execution_count": 4,
   "metadata": {},
   "outputs": [
    {
     "name": "stdout",
     "output_type": "stream",
     "text": [
      "<!DOCTYPE html>\n",
      "<html>\n",
      " <head>\n",
      "  <title>\n",
      "   賽事走位重播及平面圖 | 蘋果馬網\n",
      "  </title>\n",
      "  <meta content=\"各場賽事賽馬結果，沿途走位重播、走位圖及平面圖、馬匹走位、分段時間、總時間紀錄、勝負距離及賽後報告等，幫馬迷作賽後檢討，做定功課鎖定備忘馬匹，準備下次出擊。\" name=\"description\"/>\n",
      "  <meta content=\"賽馬結果,賽事重播,走位圖,平面圖,落飛,賠率,馬匹走位,分段時間,總時間,勝負距離,賽後報告,賽後重溫,蘋果馬經,賽馬,馬會\" name=\"keywords\"/>\n",
      "  <meta content=\"YES\" name=\"ssr-check\"/>\n",
      "  <link href=\"/front.css\" rel=\"stylesheet\"/>\n",
      "  <script src=\"/js/front.js?33955cfcda60f8379bb2\">\n",
      "  </script>\n",
      "  <script src=\"/js/vendors~front.ac01469ea8c1f54097d1.js?ac01469ea8c1f54097d1\">\n",
      "  </script>\n",
      "  <script src=\"https://staticlayout.appledaily.hk/uvp2/js/anvp.common.lib-v1.0.3.js?v=20180119\">\n",
      "  </script>\n",
      "  <script async=\"async\" src=\"https://www.googletagservices.com/tag/js/gpt.js\">\n",
      "  </script>\n",
      "  <script src=\"https://static.omoplanet.com/WebSDK/v3.3.1/omo-sdk-3.3.1.min.js\">\n",
      "  </script>\n",
      "  <!-- Google Tag Manager -->\n",
      "  <script>\n",
      "   (function(w,d,s,l,i){w[l]=w[l]||[];w[l].push({'gtm.start':\n",
      "  new Date().getTime(),event:'gtm.js'});var f=d.getElementsByTagName(s)[0],\n",
      "  j=d.createElement(s),dl=l!='dataLayer'?'&l='+l:'';j.async=true;j.src=\n",
      "  'https://www.googletagmanager.com/gtm.js?id='+i+dl;f.parentNode.insertBefore(j,f);\n",
      "  })(window,document,'script','dataLayer','GTM-WBG6B7T');\n",
      "  </script>\n",
      "  <!-- End Google Tag Manager -->\n",
      "  <!-- Begin comScore Tag -->\n",
      "  <script>\n",
      "   var _comscore = _comscore || [];\n",
      "  _comscore.push({ c1: \"2\", c2: \"8028476\" });\n",
      "  (function() {\n",
      "  var s = document.createElement(\"script\"), el = document.getElementsByTagName(\"script\")[0]; s.async = true;\n",
      "  s.src = (document.location.protocol == \"https:\" ? \"https://sb\" : \"http://b\") + \".scorecardresearch.com/beacon.js\";\n",
      "  el.parentNode.insertBefore(s, el);\n",
      "  })();\n",
      "  </script>\n",
      "  <noscript>\n",
      "   <img src=\"http://b.scorecardresearch.com/p?c1=2&amp;c2=8028476&amp;cv=2.0&amp;cj=1\"/>\n",
      "  </noscript>\n",
      "  <!-- End comScore Tag -->\n",
      "  <!-- GDPR -->\n",
      "  <script id=\"gdpr-message\" src=\"https://policy.appledaily.com/gdpr.js?cpreg=HK&amp;platform=WEB&amp;v=1\">\n",
      "  </script>\n",
      " </head>\n",
      " <body>\n",
      "  <!-- Google Tag Manager (noscript) -->\n",
      "  <noscript>\n",
      "   <iframe height=\"0\" src=\"https://www.googletagmanager.com/ns.html?id=GTM-WBG6B7T\" style=\"display:none;visibility:hidden\" width=\"0\">\n",
      "   </iframe>\n",
      "  </noscript>\n",
      "  <!-- End Google Tag Manager (noscript) -->\n",
      " </body>\n",
      "</html>\n",
      "\n"
     ]
    }
   ],
   "source": [
    "soup = BeautifulSoup(response.content, 'lxml') #There are other parser such as lxml's HTML parser and lxml's XML parser. \n",
    "print(soup.prettify())"
   ]
  },
  {
   "cell_type": "markdown",
   "metadata": {},
   "source": [
    "我地想要\"https://racing.appledaily.com.hk/race-day/race-position?raceDay=XXXX&race=XXXX\" XXXX既部份，因為XXXX這些是對應不同日期乃至第幾場既資料，所以我地可以係define左既url 到試下搵。(因為個網頁有整左清單同埋按鈕俾你去其他網頁，代表其實你可以係一個網頁入面抓取去其他網要所需既資訊)。如下圖係個清單到right click 檢查元素，可以帶到我地去所對應既tag, which is \"select\" tag。\n",
    "\n",
    "\n",
    "soup.find_all():係beautifulsoup object 既method?\n",
    "find_all(name, attrs, recursive, string, limit, **kwargs)\n",
    "looks through a tag’s descendants and retrieves all descendants that match your filters."
   ]
  },
  {
   "cell_type": "markdown",
   "metadata": {},
   "source": [
    "Question: \n",
    "r = requests.get(url)\n",
    "soup = BeautifulSoup(r.text, 'html.parser')\n",
    "soup.find_all('select')\n",
    "但出唔到野，上網睇有人懷疑因為 the elements are rendered using javascript AFTER the page has loaded.\n",
    "咁所以request.get 限制係咩? 點睇幾時用左javascript?"
   ]
  },
  {
   "cell_type": "code",
   "execution_count": 5,
   "metadata": {},
   "outputs": [
    {
     "ename": "SyntaxError",
     "evalue": "unexpected character after line continuation character (<ipython-input-5-d866535079d4>, line 1)",
     "output_type": "error",
     "traceback": [
      "\u001b[1;36m  File \u001b[1;32m\"<ipython-input-5-d866535079d4>\"\u001b[1;36m, line \u001b[1;32m1\u001b[0m\n\u001b[1;33m    soup.find_all(attrs={'value':(\\d*)})\u001b[0m\n\u001b[1;37m                                        ^\u001b[0m\n\u001b[1;31mSyntaxError\u001b[0m\u001b[1;31m:\u001b[0m unexpected character after line continuation character\n"
     ]
    }
   ],
   "source": [
    "soup.find_all(attrs={'value':(\\d*)})"
   ]
  },
  {
   "cell_type": "code",
   "execution_count": null,
   "metadata": {},
   "outputs": [],
   "source": [
    "#有無用? 參考https://stackoverflow.com/questions/42147601/pyqt4-to-pyqt5-mainframe-deprecated-need-fix-to-load-web-pages \n",
    "#參考https://impythonist.wordpress.com/2015/01/06/ultimate-guide-for-scraping-javascript-rendered-web-pages/\n",
    "import sys \n",
    "from PyQt5.QtWebEngineWidgets import QWebEnginePage\n",
    "from PyQt5.QtWidgets import QApplication\n",
    "from PyQt5.QtCore import QUrl\n",
    "\n",
    "class Render(QWebEnginePage):  \n",
    "  def __init__(self, url):  \n",
    "    self.app = QApplication(sys.argv)  \n",
    "    QWebEnginePage.__init__(self)  \n",
    "    self.html = ''\n",
    "    self.loadFinished.connect(self._on_load_finished)  \n",
    "    self.load(QUrl(url))  \n",
    "    self.app.exec_()  \n",
    "    \n",
    "  def _on_load_finished(self):\n",
    "    self.html = self.toHtml(self.Callable)\n",
    "    print('Load finished')\n",
    "\n",
    "  def Callable(self, html_str):\n",
    "    self.html = html_str\n",
    "    self.app.quit()  "
   ]
  }
 ],
 "metadata": {
  "kernelspec": {
   "display_name": "Python 3.7.2 64-bit ('earth': conda)",
   "language": "python",
   "name": "python37264bitearthconda6a7ea298a8c0434ca8e3e0c9adb5d818"
  },
  "language_info": {
   "codemirror_mode": {
    "name": "ipython",
    "version": 3
   },
   "file_extension": ".py",
   "mimetype": "text/x-python",
   "name": "python",
   "nbconvert_exporter": "python",
   "pygments_lexer": "ipython3",
   "version": "3.7.2"
  }
 },
 "nbformat": 4,
 "nbformat_minor": 2
}
